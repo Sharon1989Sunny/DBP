{
 "cells": [
  {
   "cell_type": "code",
   "execution_count": 2,
   "id": "0c077530",
   "metadata": {},
   "outputs": [],
   "source": [
    "import torch\n",
    "import glob\n",
    "import os\n",
    "import numpy as np"
   ]
  },
  {
   "cell_type": "code",
   "execution_count": 2,
   "id": "7dda57cb",
   "metadata": {},
   "outputs": [
    {
     "data": {
      "text/plain": [
       "4484"
      ]
     },
     "execution_count": 2,
     "metadata": {},
     "output_type": "execute_result"
    }
   ],
   "source": [
    "f=glob.glob('inputfeatdb5ppiprism/*.pt')\n",
    "len(f)\n"
   ]
  },
  {
   "cell_type": "code",
   "execution_count": 21,
   "id": "9e343c01",
   "metadata": {},
   "outputs": [],
   "source": [
    "for i in f:\n",
    "    filen = i.split('/')[-1].split('_')\n",
    "#     print(filen[0]+'_'+filen[1])\n",
    "    inp= torch.load(i)\n",
    "    rcc=inp[:, 26].cpu()\n",
    "    unique, counts = np.unique(rcc, return_counts=True)\n",
    "    coun = dict(zip(unique, counts))\n",
    "    rec_c = coun[0.0]\n",
    "    dis=torch.cdist(inp[:rec_c,:3], inp[:rec_c,:3])\n",
    "    b = dis <=10\n",
    "    indices = b.nonzero()\n",
    "#     print(indices)\n",
    "    torch.save(indices, os.path.join('InputEdge_file_nameedge_rec', filen[0]+'_'+filen[1]+'_edge_rec.pt'))\n",
    "    dis=torch.cdist(inp[rec_c:,:3], inp[rec_c:,:3])\n",
    "    b = dis <=10\n",
    "    indices = b.nonzero()\n",
    "#     print(indices)\n",
    "    torch.save(indices, os.path.join('InputEdge_file_nameedge_lig', filen[0]+'_'+filen[1]+'_edge_lig.pt'))\n",
    "\n",
    "#     break"
   ]
  },
  {
   "cell_type": "code",
   "execution_count": 19,
   "id": "7e8e17de",
   "metadata": {},
   "outputs": [
    {
     "data": {
      "text/plain": [
       "'inputfeatdb5ppiprism/1wmh_A:B_input_feat.pt'"
      ]
     },
     "execution_count": 19,
     "metadata": {},
     "output_type": "execute_result"
    }
   ],
   "source": [
    "f[0]"
   ]
  },
  {
   "cell_type": "code",
   "execution_count": 16,
   "id": "0dafd908",
   "metadata": {},
   "outputs": [
    {
     "data": {
      "text/plain": [
       "tensor([[ 0,  0],\n",
       "        [ 0,  1],\n",
       "        [ 0,  2],\n",
       "        ...,\n",
       "        [95, 93],\n",
       "        [95, 94],\n",
       "        [95, 95]])"
      ]
     },
     "execution_count": 16,
     "metadata": {},
     "output_type": "execute_result"
    }
   ],
   "source": [
    "torch.load('InputEdge_file_nameedge_rec/1A2K_A:B_edge_rec.pt')"
   ]
  },
  {
   "cell_type": "code",
   "execution_count": 25,
   "id": "ab9f0eef",
   "metadata": {},
   "outputs": [
    {
     "data": {
      "text/plain": [
       "34225"
      ]
     },
     "execution_count": 25,
     "metadata": {},
     "output_type": "execute_result"
    }
   ],
   "source": []
  },
  {
   "cell_type": "code",
   "execution_count": null,
   "id": "10e6f048",
   "metadata": {},
   "outputs": [],
   "source": []
  },
  {
   "cell_type": "code",
   "execution_count": 35,
   "id": "4e21331d",
   "metadata": {},
   "outputs": [
    {
     "data": {
      "text/plain": [
       "130"
      ]
     },
     "execution_count": 35,
     "metadata": {},
     "output_type": "execute_result"
    }
   ],
   "source": [
    "f=glob.glob('/workspace/TestParatopeFeat/*input_feat.pt')\n",
    "len(f)"
   ]
  },
  {
   "cell_type": "code",
   "execution_count": 36,
   "id": "590f4d26",
   "metadata": {},
   "outputs": [
    {
     "data": {
      "text/plain": [
       "['/workspace/TestParatopeFeat/5U3K_LH:P_input_feat.pt',\n",
       " '/workspace/TestParatopeFeat/4XAK_LH:A_input_feat.pt',\n",
       " '/workspace/TestParatopeFeat/3HI1_LH:G_input_feat.pt',\n",
       " '/workspace/TestParatopeFeat/5D8J_LH:A_input_feat.pt',\n",
       " '/workspace/TestParatopeFeat/4HPO_LH:P_input_feat.pt',\n",
       " '/workspace/TestParatopeFeat/5TZU_LH:C_input_feat.pt',\n",
       " '/workspace/TestParatopeFeat/5D93_BC:A_input_feat.pt',\n",
       " '/workspace/TestParatopeFeat/4HZL_LH:E_input_feat.pt',\n",
       " '/workspace/TestParatopeFeat/4TSA_LH:A_input_feat.pt',\n",
       " '/workspace/TestParatopeFeat/2Y6S_LH:Q_input_feat.pt',\n",
       " '/workspace/TestParatopeFeat/4YQX_LH:A_input_feat.pt',\n",
       " '/workspace/TestParatopeFeat/4YHP_LH:P_input_feat.pt',\n",
       " '/workspace/TestParatopeFeat/3UJJ_LH:P_input_feat.pt',\n",
       " '/workspace/TestParatopeFeat/4ZFO_LH:K_input_feat.pt',\n",
       " '/workspace/TestParatopeFeat/3GHE_LH:P_input_feat.pt',\n",
       " '/workspace/TestParatopeFeat/5U3J_LH:A_input_feat.pt',\n",
       " '/workspace/TestParatopeFeat/3U0T_CD:E_input_feat.pt',\n",
       " '/workspace/TestParatopeFeat/4G6M_LH:A_input_feat.pt',\n",
       " '/workspace/TestParatopeFeat/5KN5_ED:F_input_feat.pt',\n",
       " '/workspace/TestParatopeFeat/3EOA_LH:I_input_feat.pt',\n",
       " '/workspace/TestParatopeFeat/5KJR_LH:G_input_feat.pt',\n",
       " '/workspace/TestParatopeFeat/3O41_LH:P_input_feat.pt',\n",
       " '/workspace/TestParatopeFeat/5GIR_LH:DC_input_feat.pt',\n",
       " '/workspace/TestParatopeFeat/5K9K_LH:F_input_feat.pt',\n",
       " '/workspace/TestParatopeFeat/4HS6_LH:Y_input_feat.pt',\n",
       " '/workspace/TestParatopeFeat/4QTI_LH:U_input_feat.pt',\n",
       " '/workspace/TestParatopeFeat/5F9W_LH:G_input_feat.pt',\n",
       " '/workspace/TestParatopeFeat/5EA0_LH:P_input_feat.pt',\n",
       " '/workspace/TestParatopeFeat/4QWW_CD:B_input_feat.pt',\n",
       " '/workspace/TestParatopeFeat/5CSZ_LH:D_input_feat.pt',\n",
       " '/workspace/TestParatopeFeat/4IRZ_LH:A_input_feat.pt',\n",
       " '/workspace/TestParatopeFeat/4JPW_LH:G_input_feat.pt',\n",
       " '/workspace/TestParatopeFeat/4HJ0_QP:A_input_feat.pt',\n",
       " '/workspace/TestParatopeFeat/3THM_LH:F_input_feat.pt',\n",
       " '/workspace/TestParatopeFeat/5F3H_HG:K_input_feat.pt',\n",
       " '/workspace/TestParatopeFeat/4EDX_LH:WV_input_feat.pt',\n",
       " '/workspace/TestParatopeFeat/4YDK_LH:G_input_feat.pt',\n",
       " '/workspace/TestParatopeFeat/3G5V_AB:C_input_feat.pt',\n",
       " '/workspace/TestParatopeFeat/3U9P_MK:C_input_feat.pt',\n",
       " '/workspace/TestParatopeFeat/5HYS_BA:G_input_feat.pt',\n",
       " '/workspace/TestParatopeFeat/3GO1_LH:P_input_feat.pt',\n",
       " '/workspace/TestParatopeFeat/5DRZ_LH:P_input_feat.pt',\n",
       " '/workspace/TestParatopeFeat/3SQO_LH:A_input_feat.pt',\n",
       " '/workspace/TestParatopeFeat/5T5F_LH:A_input_feat.pt',\n",
       " '/workspace/TestParatopeFeat/5EOC_LH:P_input_feat.pt',\n",
       " '/workspace/TestParatopeFeat/3NFP_LH:I_input_feat.pt',\n",
       " '/workspace/TestParatopeFeat/4TUJ_BA:E_input_feat.pt',\n",
       " '/workspace/TestParatopeFeat/4O9H_LH:A_input_feat.pt',\n",
       " '/workspace/TestParatopeFeat/4XH2_LH:h_input_feat.pt',\n",
       " '/workspace/TestParatopeFeat/5TLK_GH:Y_input_feat.pt',\n",
       " '/workspace/TestParatopeFeat/4WEB_LH:E_input_feat.pt',\n",
       " '/workspace/TestParatopeFeat/5UGY_LH:A_input_feat.pt',\n",
       " '/workspace/TestParatopeFeat/5KVF_LH:E_input_feat.pt',\n",
       " '/workspace/TestParatopeFeat/4BZ2_LH:A_input_feat.pt',\n",
       " '/workspace/TestParatopeFeat/5AUM_LH:C_input_feat.pt',\n",
       " '/workspace/TestParatopeFeat/4FP8_LH:A_input_feat.pt',\n",
       " '/workspace/TestParatopeFeat/2LTQ_EF:D_input_feat.pt',\n",
       " '/workspace/TestParatopeFeat/4ZPT_LH:S_input_feat.pt',\n",
       " '/workspace/TestParatopeFeat/3SKJ_LH:E_input_feat.pt',\n",
       " '/workspace/TestParatopeFeat/5K9Q_LH:B_input_feat.pt',\n",
       " '/workspace/TestParatopeFeat/4HS8_LH:A_input_feat.pt',\n",
       " '/workspace/TestParatopeFeat/4MWF_LH:C_input_feat.pt',\n",
       " '/workspace/TestParatopeFeat/5I9Q_LH:G_input_feat.pt',\n",
       " '/workspace/TestParatopeFeat/5DUR_DB:A_input_feat.pt',\n",
       " '/workspace/TestParatopeFeat/4N9G_NM:Z_input_feat.pt',\n",
       " '/workspace/TestParatopeFeat/5IQ9_LH:P_input_feat.pt',\n",
       " '/workspace/TestParatopeFeat/4L5F_LH:E_input_feat.pt',\n",
       " '/workspace/TestParatopeFeat/4LKX_BA:R_input_feat.pt',\n",
       " '/workspace/TestParatopeFeat/4Z5R_PQ:G_input_feat.pt',\n",
       " '/workspace/TestParatopeFeat/4K7P_LH:XY_input_feat.pt',\n",
       " '/workspace/TestParatopeFeat/4NRX_LH:P_input_feat.pt',\n",
       " '/workspace/TestParatopeFeat/3G04_AB:C_input_feat.pt',\n",
       " '/workspace/TestParatopeFeat/4I77_LH:Z_input_feat.pt',\n",
       " '/workspace/TestParatopeFeat/4Y5V_HG:I_input_feat.pt',\n",
       " '/workspace/TestParatopeFeat/4N8C_LH:X_input_feat.pt',\n",
       " '/workspace/TestParatopeFeat/4HPY_LH:P_input_feat.pt',\n",
       " '/workspace/TestParatopeFeat/5KVG_LH:E_input_feat.pt',\n",
       " '/workspace/TestParatopeFeat/4QNP_LH:B_input_feat.pt',\n",
       " '/workspace/TestParatopeFeat/3MLX_LH:P_input_feat.pt',\n",
       " '/workspace/TestParatopeFeat/3PP4_LH:P_input_feat.pt',\n",
       " '/workspace/TestParatopeFeat/1CIC_AB:DC_input_feat.pt',\n",
       " '/workspace/TestParatopeFeat/3P0Y_LH:A_input_feat.pt',\n",
       " '/workspace/TestParatopeFeat/1IAI_LH:MI_input_feat.pt',\n",
       " '/workspace/TestParatopeFeat/4GMS_LH:A_input_feat.pt',\n",
       " '/workspace/TestParatopeFeat/4RAV_BA:FE_input_feat.pt',\n",
       " '/workspace/TestParatopeFeat/5MES_LH:A_input_feat.pt',\n",
       " '/workspace/TestParatopeFeat/5C0N_LH:A_input_feat.pt',\n",
       " '/workspace/TestParatopeFeat/3MNZ_AB:P_input_feat.pt',\n",
       " '/workspace/TestParatopeFeat/5K59_LH:A_input_feat.pt',\n",
       " '/workspace/TestParatopeFeat/4Z0X_AB:C_input_feat.pt',\n",
       " '/workspace/TestParatopeFeat/4M1G_LH:AB_input_feat.pt',\n",
       " '/workspace/TestParatopeFeat/3MLW_LH:P_input_feat.pt',\n",
       " '/workspace/TestParatopeFeat/5A3I_HG:E_input_feat.pt',\n",
       " '/workspace/TestParatopeFeat/5DUM_LH:A_input_feat.pt',\n",
       " '/workspace/TestParatopeFeat/4PY8_JI:B_input_feat.pt',\n",
       " '/workspace/TestParatopeFeat/5KVD_LH:E_input_feat.pt',\n",
       " '/workspace/TestParatopeFeat/4RGM_LH:S_input_feat.pt',\n",
       " '/workspace/TestParatopeFeat/3E8U_LH:P_input_feat.pt',\n",
       " '/workspace/TestParatopeFeat/4M5Z_LH:A_input_feat.pt',\n",
       " '/workspace/TestParatopeFeat/2XWT_BA:C_input_feat.pt',\n",
       " '/workspace/TestParatopeFeat/2XRA_LH:A_input_feat.pt',\n",
       " '/workspace/TestParatopeFeat/4YUE_LH:C_input_feat.pt',\n",
       " '/workspace/TestParatopeFeat/5F9O_LH:G_input_feat.pt',\n",
       " '/workspace/TestParatopeFeat/3H0T_AB:C_input_feat.pt',\n",
       " '/workspace/TestParatopeFeat/4YK4_BC:A_input_feat.pt',\n",
       " '/workspace/TestParatopeFeat/4JZJ_LH:C_input_feat.pt',\n",
       " '/workspace/TestParatopeFeat/3I50_LH:E_input_feat.pt',\n",
       " '/workspace/TestParatopeFeat/5TIH_LH:A_input_feat.pt',\n",
       " '/workspace/TestParatopeFeat/5C7X_LH:AB_input_feat.pt',\n",
       " '/workspace/TestParatopeFeat/5KVE_LH:E_input_feat.pt',\n",
       " '/workspace/TestParatopeFeat/4QCI_LH:C_input_feat.pt',\n",
       " '/workspace/TestParatopeFeat/5MHR_HI:CB_input_feat.pt',\n",
       " '/workspace/TestParatopeFeat/4G6A_LH:A_input_feat.pt',\n",
       " '/workspace/TestParatopeFeat/4U0R_CB:A_input_feat.pt',\n",
       " '/workspace/TestParatopeFeat/5SX4_LH:N_input_feat.pt',\n",
       " '/workspace/TestParatopeFeat/4QHU_LH:C_input_feat.pt',\n",
       " '/workspace/TestParatopeFeat/4H8W_LH:G_input_feat.pt',\n",
       " '/workspace/TestParatopeFeat/5TZT_LH:C_input_feat.pt',\n",
       " '/workspace/TestParatopeFeat/2Y5T_BA:GE_input_feat.pt',\n",
       " '/workspace/TestParatopeFeat/5L6Y_LH:C_input_feat.pt',\n",
       " '/workspace/TestParatopeFeat/4HHA_AB:P_input_feat.pt',\n",
       " '/workspace/TestParatopeFeat/4XNM_LH:C_input_feat.pt',\n",
       " '/workspace/TestParatopeFeat/2EIZ_AB:C_input_feat.pt',\n",
       " '/workspace/TestParatopeFeat/5GZN_LH:AE_input_feat.pt',\n",
       " '/workspace/TestParatopeFeat/4YDL_LH:G_input_feat.pt',\n",
       " '/workspace/TestParatopeFeat/5JHL_LH:A_input_feat.pt',\n",
       " '/workspace/TestParatopeFeat/4YO0_BA:E_input_feat.pt',\n",
       " '/workspace/TestParatopeFeat/5LBS_MI:B_input_feat.pt',\n",
       " '/workspace/TestParatopeFeat/3G5Y_AB:E_input_feat.pt',\n",
       " '/workspace/TestParatopeFeat/3S37_LH:X_input_feat.pt']"
      ]
     },
     "execution_count": 36,
     "metadata": {},
     "output_type": "execute_result"
    }
   ],
   "source": [
    "# feat=torch.load('/workspace/heterofiles/7jyz_A:B_input_feat.pt')\n",
    "f"
   ]
  },
  {
   "cell_type": "code",
   "execution_count": null,
   "id": "b1252de0",
   "metadata": {},
   "outputs": [],
   "source": []
  },
  {
   "cell_type": "code",
   "execution_count": null,
   "id": "6feee806",
   "metadata": {},
   "outputs": [],
   "source": []
  },
  {
   "cell_type": "code",
   "execution_count": 37,
   "id": "82d397fc",
   "metadata": {},
   "outputs": [
    {
     "name": "stdout",
     "output_type": "stream",
     "text": [
      "/workspace/TestParatopeFeat/5U3K_LH:P_input_feat.pt\n",
      "/workspace/TestParatopeFeat/4XAK_LH:A_input_feat.pt\n",
      "/workspace/TestParatopeFeat/3HI1_LH:G_input_feat.pt\n",
      "/workspace/TestParatopeFeat/5D8J_LH:A_input_feat.pt\n",
      "/workspace/TestParatopeFeat/4HPO_LH:P_input_feat.pt\n",
      "/workspace/TestParatopeFeat/5TZU_LH:C_input_feat.pt\n",
      "/workspace/TestParatopeFeat/5D93_BC:A_input_feat.pt\n",
      "/workspace/TestParatopeFeat/4HZL_LH:E_input_feat.pt\n",
      "/workspace/TestParatopeFeat/4TSA_LH:A_input_feat.pt\n",
      "/workspace/TestParatopeFeat/2Y6S_LH:Q_input_feat.pt\n",
      "/workspace/TestParatopeFeat/4YQX_LH:A_input_feat.pt\n",
      "/workspace/TestParatopeFeat/4YHP_LH:P_input_feat.pt\n",
      "/workspace/TestParatopeFeat/3UJJ_LH:P_input_feat.pt\n",
      "/workspace/TestParatopeFeat/4ZFO_LH:K_input_feat.pt\n",
      "/workspace/TestParatopeFeat/3GHE_LH:P_input_feat.pt\n",
      "/workspace/TestParatopeFeat/5U3J_LH:A_input_feat.pt\n",
      "/workspace/TestParatopeFeat/3U0T_CD:E_input_feat.pt\n",
      "/workspace/TestParatopeFeat/4G6M_LH:A_input_feat.pt\n",
      "/workspace/TestParatopeFeat/5KN5_ED:F_input_feat.pt\n",
      "/workspace/TestParatopeFeat/3EOA_LH:I_input_feat.pt\n",
      "/workspace/TestParatopeFeat/5KJR_LH:G_input_feat.pt\n",
      "/workspace/TestParatopeFeat/3O41_LH:P_input_feat.pt\n",
      "/workspace/TestParatopeFeat/5GIR_LH:DC_input_feat.pt\n",
      "/workspace/TestParatopeFeat/5K9K_LH:F_input_feat.pt\n",
      "/workspace/TestParatopeFeat/4HS6_LH:Y_input_feat.pt\n",
      "/workspace/TestParatopeFeat/4QTI_LH:U_input_feat.pt\n",
      "/workspace/TestParatopeFeat/5F9W_LH:G_input_feat.pt\n",
      "/workspace/TestParatopeFeat/5EA0_LH:P_input_feat.pt\n",
      "/workspace/TestParatopeFeat/4QWW_CD:B_input_feat.pt\n",
      "/workspace/TestParatopeFeat/5CSZ_LH:D_input_feat.pt\n",
      "/workspace/TestParatopeFeat/4IRZ_LH:A_input_feat.pt\n",
      "/workspace/TestParatopeFeat/4JPW_LH:G_input_feat.pt\n",
      "/workspace/TestParatopeFeat/4HJ0_QP:A_input_feat.pt\n",
      "/workspace/TestParatopeFeat/3THM_LH:F_input_feat.pt\n",
      "/workspace/TestParatopeFeat/5F3H_HG:K_input_feat.pt\n",
      "/workspace/TestParatopeFeat/4EDX_LH:WV_input_feat.pt\n",
      "/workspace/TestParatopeFeat/4YDK_LH:G_input_feat.pt\n",
      "/workspace/TestParatopeFeat/3G5V_AB:C_input_feat.pt\n",
      "/workspace/TestParatopeFeat/3U9P_MK:C_input_feat.pt\n",
      "/workspace/TestParatopeFeat/5HYS_BA:G_input_feat.pt\n",
      "/workspace/TestParatopeFeat/3GO1_LH:P_input_feat.pt\n",
      "/workspace/TestParatopeFeat/5DRZ_LH:P_input_feat.pt\n",
      "/workspace/TestParatopeFeat/3SQO_LH:A_input_feat.pt\n",
      "/workspace/TestParatopeFeat/5T5F_LH:A_input_feat.pt\n",
      "/workspace/TestParatopeFeat/5EOC_LH:P_input_feat.pt\n",
      "/workspace/TestParatopeFeat/3NFP_LH:I_input_feat.pt\n",
      "/workspace/TestParatopeFeat/4TUJ_BA:E_input_feat.pt\n",
      "/workspace/TestParatopeFeat/4O9H_LH:A_input_feat.pt\n",
      "/workspace/TestParatopeFeat/4XH2_LH:h_input_feat.pt\n",
      "/workspace/TestParatopeFeat/5TLK_GH:Y_input_feat.pt\n",
      "/workspace/TestParatopeFeat/4WEB_LH:E_input_feat.pt\n",
      "/workspace/TestParatopeFeat/5UGY_LH:A_input_feat.pt\n",
      "/workspace/TestParatopeFeat/5KVF_LH:E_input_feat.pt\n",
      "/workspace/TestParatopeFeat/4BZ2_LH:A_input_feat.pt\n",
      "/workspace/TestParatopeFeat/5AUM_LH:C_input_feat.pt\n",
      "/workspace/TestParatopeFeat/4FP8_LH:A_input_feat.pt\n",
      "/workspace/TestParatopeFeat/2LTQ_EF:D_input_feat.pt\n",
      "/workspace/TestParatopeFeat/4ZPT_LH:S_input_feat.pt\n",
      "/workspace/TestParatopeFeat/3SKJ_LH:E_input_feat.pt\n",
      "/workspace/TestParatopeFeat/5K9Q_LH:B_input_feat.pt\n",
      "/workspace/TestParatopeFeat/4HS8_LH:A_input_feat.pt\n",
      "/workspace/TestParatopeFeat/4MWF_LH:C_input_feat.pt\n",
      "/workspace/TestParatopeFeat/5I9Q_LH:G_input_feat.pt\n",
      "/workspace/TestParatopeFeat/5DUR_DB:A_input_feat.pt\n",
      "/workspace/TestParatopeFeat/4N9G_NM:Z_input_feat.pt\n",
      "/workspace/TestParatopeFeat/5IQ9_LH:P_input_feat.pt\n",
      "/workspace/TestParatopeFeat/4L5F_LH:E_input_feat.pt\n",
      "/workspace/TestParatopeFeat/4LKX_BA:R_input_feat.pt\n",
      "/workspace/TestParatopeFeat/4Z5R_PQ:G_input_feat.pt\n",
      "/workspace/TestParatopeFeat/4K7P_LH:XY_input_feat.pt\n",
      "/workspace/TestParatopeFeat/4NRX_LH:P_input_feat.pt\n",
      "/workspace/TestParatopeFeat/3G04_AB:C_input_feat.pt\n",
      "/workspace/TestParatopeFeat/4I77_LH:Z_input_feat.pt\n",
      "/workspace/TestParatopeFeat/4Y5V_HG:I_input_feat.pt\n",
      "/workspace/TestParatopeFeat/4N8C_LH:X_input_feat.pt\n",
      "/workspace/TestParatopeFeat/4HPY_LH:P_input_feat.pt\n",
      "/workspace/TestParatopeFeat/5KVG_LH:E_input_feat.pt\n",
      "/workspace/TestParatopeFeat/4QNP_LH:B_input_feat.pt\n",
      "/workspace/TestParatopeFeat/3MLX_LH:P_input_feat.pt\n",
      "/workspace/TestParatopeFeat/3PP4_LH:P_input_feat.pt\n",
      "/workspace/TestParatopeFeat/1CIC_AB:DC_input_feat.pt\n",
      "/workspace/TestParatopeFeat/3P0Y_LH:A_input_feat.pt\n",
      "/workspace/TestParatopeFeat/1IAI_LH:MI_input_feat.pt\n",
      "/workspace/TestParatopeFeat/4GMS_LH:A_input_feat.pt\n",
      "/workspace/TestParatopeFeat/4RAV_BA:FE_input_feat.pt\n",
      "/workspace/TestParatopeFeat/5MES_LH:A_input_feat.pt\n",
      "/workspace/TestParatopeFeat/5C0N_LH:A_input_feat.pt\n",
      "/workspace/TestParatopeFeat/3MNZ_AB:P_input_feat.pt\n",
      "/workspace/TestParatopeFeat/5K59_LH:A_input_feat.pt\n",
      "/workspace/TestParatopeFeat/4Z0X_AB:C_input_feat.pt\n",
      "/workspace/TestParatopeFeat/4M1G_LH:AB_input_feat.pt\n",
      "/workspace/TestParatopeFeat/3MLW_LH:P_input_feat.pt\n",
      "/workspace/TestParatopeFeat/5A3I_HG:E_input_feat.pt\n",
      "/workspace/TestParatopeFeat/5DUM_LH:A_input_feat.pt\n",
      "/workspace/TestParatopeFeat/4PY8_JI:B_input_feat.pt\n",
      "/workspace/TestParatopeFeat/5KVD_LH:E_input_feat.pt\n",
      "/workspace/TestParatopeFeat/4RGM_LH:S_input_feat.pt\n",
      "/workspace/TestParatopeFeat/3E8U_LH:P_input_feat.pt\n",
      "/workspace/TestParatopeFeat/4M5Z_LH:A_input_feat.pt\n",
      "/workspace/TestParatopeFeat/2XWT_BA:C_input_feat.pt\n",
      "/workspace/TestParatopeFeat/2XRA_LH:A_input_feat.pt\n",
      "/workspace/TestParatopeFeat/4YUE_LH:C_input_feat.pt\n",
      "/workspace/TestParatopeFeat/5F9O_LH:G_input_feat.pt\n",
      "/workspace/TestParatopeFeat/3H0T_AB:C_input_feat.pt\n",
      "/workspace/TestParatopeFeat/4YK4_BC:A_input_feat.pt\n",
      "/workspace/TestParatopeFeat/4JZJ_LH:C_input_feat.pt\n",
      "/workspace/TestParatopeFeat/3I50_LH:E_input_feat.pt\n",
      "/workspace/TestParatopeFeat/5TIH_LH:A_input_feat.pt\n",
      "/workspace/TestParatopeFeat/5C7X_LH:AB_input_feat.pt\n",
      "/workspace/TestParatopeFeat/5KVE_LH:E_input_feat.pt\n",
      "/workspace/TestParatopeFeat/4QCI_LH:C_input_feat.pt\n",
      "/workspace/TestParatopeFeat/5MHR_HI:CB_input_feat.pt\n",
      "/workspace/TestParatopeFeat/4G6A_LH:A_input_feat.pt\n",
      "/workspace/TestParatopeFeat/4U0R_CB:A_input_feat.pt\n",
      "/workspace/TestParatopeFeat/5SX4_LH:N_input_feat.pt\n",
      "/workspace/TestParatopeFeat/4QHU_LH:C_input_feat.pt\n",
      "/workspace/TestParatopeFeat/4H8W_LH:G_input_feat.pt\n",
      "/workspace/TestParatopeFeat/5TZT_LH:C_input_feat.pt\n",
      "/workspace/TestParatopeFeat/2Y5T_BA:GE_input_feat.pt\n",
      "/workspace/TestParatopeFeat/5L6Y_LH:C_input_feat.pt\n",
      "/workspace/TestParatopeFeat/4HHA_AB:P_input_feat.pt\n",
      "/workspace/TestParatopeFeat/4XNM_LH:C_input_feat.pt\n",
      "/workspace/TestParatopeFeat/2EIZ_AB:C_input_feat.pt\n",
      "/workspace/TestParatopeFeat/5GZN_LH:AE_input_feat.pt\n",
      "/workspace/TestParatopeFeat/4YDL_LH:G_input_feat.pt\n",
      "/workspace/TestParatopeFeat/5JHL_LH:A_input_feat.pt\n",
      "/workspace/TestParatopeFeat/4YO0_BA:E_input_feat.pt\n",
      "/workspace/TestParatopeFeat/5LBS_MI:B_input_feat.pt\n",
      "/workspace/TestParatopeFeat/3G5Y_AB:E_input_feat.pt\n",
      "/workspace/TestParatopeFeat/3S37_LH:X_input_feat.pt\n"
     ]
    }
   ],
   "source": [
    "for i in f:\n",
    "    \n",
    "#     if i =='SaDab_dataset/3inu_M:N_input_feat.pt': \n",
    "#         print('in')\n",
    "        print(i)\n",
    "        filen = i.split('/')[-1].split('_')\n",
    "    #     print(filen[0]+'_'+filen[1])\n",
    "        inp= torch.load(i)\n",
    "        rcc=inp[:, 46].cpu()\n",
    "        unique, counts = np.unique(rcc, return_counts=True)\n",
    "        coun = dict(zip(unique, counts))\n",
    "        rec_c = coun[0.0]\n",
    "#         print(rec_c, inp.shape[0])\n",
    "        dis=torch.cdist(inp[:rec_c,:3], inp[:rec_c,:3])\n",
    "        b = dis <=10\n",
    "    #     print(b)\n",
    "    #     print(torch.sum((b == True).int()))\n",
    "\n",
    "        indices = b.nonzero()\n",
    "    #     print(len(indices))\n",
    "        torch.save(indices, os.path.join('TestParatopeFeat', filen[0]+'_'+filen[1]+'_edge_rec.pt'))\n",
    "        dis=torch.cdist(inp[rec_c:,:3], inp[rec_c:,:3])\n",
    "        bb = dis <=10\n",
    "        indices = bb.nonzero()\n",
    "    #     print(torch.sum((bb == True).int()))\n",
    "#         print(indices)\n",
    "        torch.save(indices, os.path.join('TestParatopeFeat', filen[0]+'_'+filen[1]+'_edge_lig.pt'))\n",
    "\n",
    "#         break\n",
    "    "
   ]
  },
  {
   "cell_type": "code",
   "execution_count": 38,
   "id": "4642b661",
   "metadata": {},
   "outputs": [],
   "source": [
    "f=glob.glob('TestParatopeFeat/*edge_rec.pt')\n",
    "len(f)\n",
    "arr = []\n",
    "for i in f:\n",
    "    filen = i.split('/')[-1].split('_')\n",
    "    arr.append(filen[0]+'_'+filen[1])\n",
    "import numpy as np\n",
    "np.save('testingParatope.npy', np.array(arr))"
   ]
  },
  {
   "cell_type": "code",
   "execution_count": 40,
   "id": "dc4df348",
   "metadata": {},
   "outputs": [
    {
     "data": {
      "text/plain": [
       "(130,)"
      ]
     },
     "execution_count": 40,
     "metadata": {},
     "output_type": "execute_result"
    }
   ],
   "source": [
    "np.load('testingParatope.npy').shape"
   ]
  },
  {
   "cell_type": "code",
   "execution_count": 10,
   "id": "54e6a880",
   "metadata": {},
   "outputs": [
    {
     "data": {
      "text/plain": [
       "248.0"
      ]
     },
     "execution_count": 10,
     "metadata": {},
     "output_type": "execute_result"
    }
   ],
   "source": [
    "310*80/100"
   ]
  },
  {
   "cell_type": "code",
   "execution_count": null,
   "id": "6d8cf053",
   "metadata": {},
   "outputs": [],
   "source": []
  }
 ],
 "metadata": {
  "kernelspec": {
   "display_name": "Python 3 (ipykernel)",
   "language": "python",
   "name": "python3"
  },
  "language_info": {
   "codemirror_mode": {
    "name": "ipython",
    "version": 3
   },
   "file_extension": ".py",
   "mimetype": "text/x-python",
   "name": "python",
   "nbconvert_exporter": "python",
   "pygments_lexer": "ipython3",
   "version": "3.8.12"
  }
 },
 "nbformat": 4,
 "nbformat_minor": 5
}
